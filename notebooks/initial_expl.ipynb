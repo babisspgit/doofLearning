{
 "cells": [
  {
   "cell_type": "code",
   "execution_count": 1,
   "id": "2f3dc12f",
   "metadata": {},
   "outputs": [
    {
     "name": "stderr",
     "output_type": "stream",
     "text": [
      "/tmp/ipykernel_23435/1545399670.py:8: TqdmExperimentalWarning: Using `tqdm.autonotebook.tqdm` in notebook mode. Use `tqdm.tqdm` instead to force console mode (e.g. in jupyter console)\n",
      "  from tqdm.autonotebook import tqdm\n"
     ]
    }
   ],
   "source": [
    "import pandas as pd\n",
    "from PIL import Image\n",
    "from pathlib import Path\n",
    "import matplotlib.pyplot as plt\n",
    "\n",
    "import numpy as np\n",
    "\n",
    "from tqdm.autonotebook import tqdm"
   ]
  },
  {
   "cell_type": "code",
   "execution_count": 2,
   "id": "7e562585",
   "metadata": {},
   "outputs": [],
   "source": [
    "csv_path = Path(r'/home/user/Documents/DTU/Fall_23/Advanced_dl_for_cv/doofLearning/data/raw/archive/Food Ingredients and Recipe Dataset with Image Name Mapping.csv')\n",
    "images_path = Path(r'/home/user/Documents/DTU/Fall_23/Advanced_dl_for_cv/doofLearning/data/raw/archive/Food Images/Food Images')"
   ]
  },
  {
   "cell_type": "code",
   "execution_count": 3,
   "id": "e4f3f041",
   "metadata": {},
   "outputs": [],
   "source": [
    "recipes_df = pd.read_csv(csv_path, index_col=0)"
   ]
  },
  {
   "cell_type": "code",
   "execution_count": 4,
   "id": "93964f56",
   "metadata": {},
   "outputs": [
    {
     "data": {
      "text/html": [
       "<div>\n",
       "<style scoped>\n",
       "    .dataframe tbody tr th:only-of-type {\n",
       "        vertical-align: middle;\n",
       "    }\n",
       "\n",
       "    .dataframe tbody tr th {\n",
       "        vertical-align: top;\n",
       "    }\n",
       "\n",
       "    .dataframe thead th {\n",
       "        text-align: right;\n",
       "    }\n",
       "</style>\n",
       "<table border=\"1\" class=\"dataframe\">\n",
       "  <thead>\n",
       "    <tr style=\"text-align: right;\">\n",
       "      <th></th>\n",
       "      <th>Title</th>\n",
       "      <th>Ingredients</th>\n",
       "      <th>Instructions</th>\n",
       "      <th>Image_Name</th>\n",
       "      <th>Cleaned_Ingredients</th>\n",
       "    </tr>\n",
       "  </thead>\n",
       "  <tbody>\n",
       "    <tr>\n",
       "      <th>0</th>\n",
       "      <td>Miso-Butter Roast Chicken With Acorn Squash Pa...</td>\n",
       "      <td>['1 (3½–4-lb.) whole chicken', '2¾ tsp. kosher...</td>\n",
       "      <td>Pat chicken dry with paper towels, season all ...</td>\n",
       "      <td>miso-butter-roast-chicken-acorn-squash-panzanella</td>\n",
       "      <td>['1 (3½–4-lb.) whole chicken', '2¾ tsp. kosher...</td>\n",
       "    </tr>\n",
       "    <tr>\n",
       "      <th>1</th>\n",
       "      <td>Crispy Salt and Pepper Potatoes</td>\n",
       "      <td>['2 large egg whites', '1 pound new potatoes (...</td>\n",
       "      <td>Preheat oven to 400°F and line a rimmed baking...</td>\n",
       "      <td>crispy-salt-and-pepper-potatoes-dan-kluger</td>\n",
       "      <td>['2 large egg whites', '1 pound new potatoes (...</td>\n",
       "    </tr>\n",
       "    <tr>\n",
       "      <th>2</th>\n",
       "      <td>Thanksgiving Mac and Cheese</td>\n",
       "      <td>['1 cup evaporated milk', '1 cup whole milk', ...</td>\n",
       "      <td>Place a rack in middle of oven; preheat to 400...</td>\n",
       "      <td>thanksgiving-mac-and-cheese-erick-williams</td>\n",
       "      <td>['1 cup evaporated milk', '1 cup whole milk', ...</td>\n",
       "    </tr>\n",
       "    <tr>\n",
       "      <th>3</th>\n",
       "      <td>Italian Sausage and Bread Stuffing</td>\n",
       "      <td>['1 (¾- to 1-pound) round Italian loaf, cut in...</td>\n",
       "      <td>Preheat oven to 350°F with rack in middle. Gen...</td>\n",
       "      <td>italian-sausage-and-bread-stuffing-240559</td>\n",
       "      <td>['1 (¾- to 1-pound) round Italian loaf, cut in...</td>\n",
       "    </tr>\n",
       "    <tr>\n",
       "      <th>4</th>\n",
       "      <td>Newton's Law</td>\n",
       "      <td>['1 teaspoon dark brown sugar', '1 teaspoon ho...</td>\n",
       "      <td>Stir together brown sugar and hot water in a c...</td>\n",
       "      <td>newtons-law-apple-bourbon-cocktail</td>\n",
       "      <td>['1 teaspoon dark brown sugar', '1 teaspoon ho...</td>\n",
       "    </tr>\n",
       "  </tbody>\n",
       "</table>\n",
       "</div>"
      ],
      "text/plain": [
       "                                               Title  \\\n",
       "0  Miso-Butter Roast Chicken With Acorn Squash Pa...   \n",
       "1                    Crispy Salt and Pepper Potatoes   \n",
       "2                        Thanksgiving Mac and Cheese   \n",
       "3                 Italian Sausage and Bread Stuffing   \n",
       "4                                       Newton's Law   \n",
       "\n",
       "                                         Ingredients  \\\n",
       "0  ['1 (3½–4-lb.) whole chicken', '2¾ tsp. kosher...   \n",
       "1  ['2 large egg whites', '1 pound new potatoes (...   \n",
       "2  ['1 cup evaporated milk', '1 cup whole milk', ...   \n",
       "3  ['1 (¾- to 1-pound) round Italian loaf, cut in...   \n",
       "4  ['1 teaspoon dark brown sugar', '1 teaspoon ho...   \n",
       "\n",
       "                                        Instructions  \\\n",
       "0  Pat chicken dry with paper towels, season all ...   \n",
       "1  Preheat oven to 400°F and line a rimmed baking...   \n",
       "2  Place a rack in middle of oven; preheat to 400...   \n",
       "3  Preheat oven to 350°F with rack in middle. Gen...   \n",
       "4  Stir together brown sugar and hot water in a c...   \n",
       "\n",
       "                                          Image_Name  \\\n",
       "0  miso-butter-roast-chicken-acorn-squash-panzanella   \n",
       "1         crispy-salt-and-pepper-potatoes-dan-kluger   \n",
       "2         thanksgiving-mac-and-cheese-erick-williams   \n",
       "3          italian-sausage-and-bread-stuffing-240559   \n",
       "4                 newtons-law-apple-bourbon-cocktail   \n",
       "\n",
       "                                 Cleaned_Ingredients  \n",
       "0  ['1 (3½–4-lb.) whole chicken', '2¾ tsp. kosher...  \n",
       "1  ['2 large egg whites', '1 pound new potatoes (...  \n",
       "2  ['1 cup evaporated milk', '1 cup whole milk', ...  \n",
       "3  ['1 (¾- to 1-pound) round Italian loaf, cut in...  \n",
       "4  ['1 teaspoon dark brown sugar', '1 teaspoon ho...  "
      ]
     },
     "execution_count": 4,
     "metadata": {},
     "output_type": "execute_result"
    }
   ],
   "source": [
    "recipes_df.head(5)"
   ]
  },
  {
   "cell_type": "code",
   "execution_count": 6,
   "id": "4e94ddeb",
   "metadata": {},
   "outputs": [],
   "source": [
    "idx = 10356\n",
    "\n",
    "row = recipes_df.iloc[idx]\n",
    "\n",
    "title = row.Title\n",
    "ingredients = row.Cleaned_Ingredients\n",
    "dirty_ingredients = row.Ingredients\n",
    "instructions = row.Instructions\n",
    "img_name = row.Image_Name\n"
   ]
  },
  {
   "cell_type": "code",
   "execution_count": 7,
   "id": "e143c57f",
   "metadata": {},
   "outputs": [
    {
     "name": "stdout",
     "output_type": "stream",
     "text": [
      "Royal Icing\n",
      "['Using electric mixer', 'beat 3 1/4 cups powdered sugar and egg whites until thick and shiny', 'adding more powdered sugar by tablespoonfuls if mixture is too thin to spread', 'about 3 minutes. Add lemon juice. Divide icing into portions', 'if desired', 'and add different food coloring to each. Cover until ready to use.']\n",
      "nan\n",
      "royal-icing-240751\n"
     ]
    }
   ],
   "source": [
    "print(title)\n",
    "print(ingredients)\n",
    "print(instructions)\n",
    "print(img_name)"
   ]
  },
  {
   "cell_type": "code",
   "execution_count": 24,
   "id": "0ac24f62",
   "metadata": {},
   "outputs": [
    {
     "data": {
      "image/png": "[encoded data removed]",
      "text/plain": [
       "<Figure size 640x480 with 1 Axes>"
      ]
     },
     "metadata": {},
     "output_type": "display_data"
    }
   ],
   "source": [
    "img_path = images_path / (img_name+'.jpg')\n",
    "img = Image.open(img_path)\n",
    "plt.imshow(img)\n",
    "plt.title(f\"{idx}: {title}\")\n",
    "plt.axis('off')\n",
    "plt.show()"
   ]
  },
  {
   "cell_type": "code",
   "execution_count": 25,
   "id": "dac2800b",
   "metadata": {},
   "outputs": [],
   "source": [
    "import skimage.measure    \n",
    "entropy = skimage.measure.shannon_entropy(img)"
   ]
  },
  {
   "cell_type": "code",
   "execution_count": 26,
   "id": "f8e80b68",
   "metadata": {},
   "outputs": [
    {
     "data": {
      "text/plain": [
       "1.9143544907157877"
      ]
     },
     "execution_count": 26,
     "metadata": {},
     "output_type": "execute_result"
    }
   ],
   "source": [
    "entropy"
   ]
  },
  {
   "cell_type": "markdown",
   "id": "912babe5",
   "metadata": {},
   "source": [
    "The square brackets in the ingredients is actually a character:"
   ]
  },
  {
   "cell_type": "code",
   "execution_count": 11,
   "id": "72ccc45c",
   "metadata": {},
   "outputs": [
    {
     "data": {
      "text/plain": [
       "str"
      ]
     },
     "execution_count": 11,
     "metadata": {},
     "output_type": "execute_result"
    }
   ],
   "source": [
    "type(ingredients)"
   ]
  },
  {
   "cell_type": "markdown",
   "id": "72f9ff26",
   "metadata": {},
   "source": [
    "What is the difference between cleaned and not-cleaned ingredient columns?"
   ]
  },
  {
   "cell_type": "code",
   "execution_count": 10,
   "id": "cd8e28f1",
   "metadata": {},
   "outputs": [
    {
     "name": "stdout",
     "output_type": "stream",
     "text": [
      "['1 (3½–4-lb.) whole chicken', '2¾ tsp. kosher salt, divided, plus more', '2 small acorn squash (about 3 lb. total)', '2 Tbsp. finely chopped sage', '1 Tbsp. finely chopped rosemary', '6 Tbsp. unsalted butter, melted, plus 3 Tbsp. room temperature', '¼ tsp. ground allspice', 'Pinch of crushed red pepper flakes', 'Freshly ground black pepper', '⅓ loaf good-quality sturdy white bread, torn into 1\" pieces (about 2½ cups)', '2 medium apples (such as Gala or Pink Lady; about 14 oz. total), cored, cut into 1\" pieces', '2 Tbsp. extra-virgin olive oil', '½ small red onion, thinly sliced', '3 Tbsp. apple cider vinegar', '1 Tbsp. white miso', '¼ cup all-purpose flour', '2 Tbsp. unsalted butter, room temperature', '¼ cup dry white wine', '2 cups unsalted chicken broth', '2 tsp. white miso', 'Kosher salt', 'freshly ground pepper']\n",
      "['1 (3½–4-lb.) whole chicken', '2¾ tsp. kosher salt, divided, plus more', '2 small acorn squash (about 3 lb. total)', '2 Tbsp. finely chopped sage', '1 Tbsp. finely chopped rosemary', '6 Tbsp. unsalted butter, melted, plus 3 Tbsp. room temperature', '¼ tsp. ground allspice', 'Pinch of crushed red pepper flakes', 'Freshly ground black pepper', '⅓ loaf good-quality sturdy white bread, torn into 1\" pieces (about 2½ cups)', '2 medium apples (such as Gala or Pink Lady; about 14 oz. total), cored, cut into 1\" pieces', '2 Tbsp. extra-virgin olive oil', '½ small red onion, thinly sliced', '3 Tbsp. apple cider vinegar', '1 Tbsp. white miso', '¼ cup all-purpose flour', '2 Tbsp. unsalted butter, room temperature', '¼ cup dry white wine', '2 cups unsalted chicken broth', '2 tsp. white miso', 'Kosher salt, freshly ground pepper']\n"
     ]
    }
   ],
   "source": [
    "print(ingredients)\n",
    "print(dirty_ingredients)"
   ]
  },
  {
   "cell_type": "code",
   "execution_count": 11,
   "id": "cebab178",
   "metadata": {},
   "outputs": [
    {
     "data": {
      "text/plain": [
       "False"
      ]
     },
     "execution_count": 11,
     "metadata": {},
     "output_type": "execute_result"
    }
   ],
   "source": [
    "dirty_ingredients==ingredients"
   ]
  },
  {
   "cell_type": "markdown",
   "id": "23e7d54c",
   "metadata": {},
   "source": [
    "Small differences. Some sentences in the dirty version are ot separated well. They look similar nonetheless. Maybe return later"
   ]
  },
  {
   "cell_type": "markdown",
   "id": "12278266",
   "metadata": {},
   "source": [
    "Are there recipes that do not have corresponding images?"
   ]
  },
  {
   "cell_type": "code",
   "execution_count": null,
   "id": "a19448f5",
   "metadata": {},
   "outputs": [],
   "source": [
    "img_ = np.asarray(img)\n",
    "\n",
    "vals, _ = np.histogram()"
   ]
  },
  {
   "cell_type": "code",
   "execution_count": 31,
   "id": "81af9491",
   "metadata": {},
   "outputs": [
    {
     "data": {
      "application/vnd.jupyter.widget-view+json": {
       "model_id": "26c314474a75457980ab2db43df4d49a",
       "version_major": 2,
       "version_minor": 0
      },
      "text/plain": [
       "  0%|          | 0/13501 [00:00<?, ?it/s]"
      ]
     },
     "metadata": {},
     "output_type": "display_data"
    },
    {
     "name": "stdout",
     "output_type": "stream",
     "text": [
      "No info 41: Iced Café de Olla\n",
      "No info 182: Ranch Fun Dip\n",
      "No info 210: Sour Cream and Onion Biscuits\n",
      "No info 526: Instant Pot Red Bean and Quinoa Soup with Taco Fixins\n",
      "No info 734: Pickled Hot Chiles\n",
      "No info 779: Coconut Cold Brew Coffee\n",
      "No info 796: Ginger + Greens Smoothie\n",
      "No info 824: Mezcal Sour\n",
      "No info 870: Cold Toddy\n",
      "No info 989: Garlic-Chile Vinegar\n",
      "No info 1107: Yellow Tomato Bloody Mary\n",
      "No info 1644: Cast-Iron Roast Chicken with Fennel and Carrots\n",
      "No info 1770: E.L.T. (Egg, Lettuce, and Tomato Sandwich)\n",
      "No info 1775: Crunchy Salty Lemony Salad\n",
      "No info 1886: Boozy Concord-Grape Ice Pops\n",
      "No info 2088: Perfect Poached Eggs\n",
      "No info 2169: Grapefruit Marmalade with Vanilla and Anise\n",
      "No info 2182: Preserved Lemons\n",
      "No info 2183: Moneygun Hot Toddy\n",
      "No info 2184: Mixed Citrus Daiquiri\n",
      "No info 2509: Kohlrabi Pickles With Chile Oil\n",
      "No info 2518: Mashed Kohlrabi With Brown Butter\n",
      "No info 2623: Salted Butterscotch\n",
      "No info 2675: Iced Coffee Shakerato\n",
      "No info 2720: Spicy Confit Chiles\n",
      "No info 2723: Garlicky Blender Aioli\n",
      "No info 2725: Red Chile Hot Sauce\n",
      "No info 2732: Pork Cutlets with Cantaloupe Salad\n",
      "No info 2754: Arnie’s Gimlet Slush\n",
      "No info 2783: Grated Tomato Sauce\n",
      "No info 2795: Cucumber Gin Cocktail\n",
      "No info 2874: Gold Rush\n",
      "No info 2915: Whiskey Sour\n",
      "No info 2916: Siesta\n",
      "No info 2918: Mojito\n",
      "No info 2919: Margarita\n",
      "No info 2920: Kamikaze\n",
      "No info 2922: French 75\n",
      "No info 2923: Daiquiri\n",
      "No info 2931: Candied Carrot Coins\n",
      "No info 2935: Cosmopolitan\n",
      "No info 2954: Spaghetti With Ramps\n",
      "No info 2998: Ramp and Walnut Pistou\n",
      "No info 3000: Lime-Pickled Red Onion\n",
      "No info 3001: Charred Scallion Butter\n",
      "No info 3004: Brown-Butter–Fried Onion Rings\n",
      "No info 3014: White Onion, Fennel, and Watercress Salad\n",
      "No info 3015: Wilted Greens Soup with Crème Fraîche\n",
      "No info 3017: Grilled Sweet Onion and Butter Sandwich\n",
      "No info 3019: Matzo Fritters\n",
      "No info 3021: Fried Squid with Aioli\n",
      "No info 3080: The Rattlesnake\n",
      "No info 3197: Tropical Carrot, Turmeric, and Ginger Smoothie\n",
      "No info 3198: Avocado, Kale, Pineapple, and Coconut Smoothie\n",
      "No info 3209: Berry, Beet, Mint, Lime, and Chia Seed Smoothie\n",
      "No info 3211: Banana, Coffee, Cashew, and Cocoa Smoothie\n",
      "No info 3366: Beef Picadillo Puffy Tacos\n",
      "No info 3367: Cured Egg Yolks\n",
      "No info 3437: Tequila Highball\n",
      "No info 3516: Black Grape Compote\n",
      "No info 3521: Hasselback Carrots\n",
      "No info 3530: Red Snapper With Sambal\n",
      "No info 3547: Cocchi Spritz\n",
      "No info 3549: Sloe Gin Spritz\n",
      "No info 3550: Apricot-Riesling Jam\n",
      "No info 3551: Strawberry Vinegar\n",
      "No info 3553: Cassis Spritz\n",
      "No info 3554: Rum Swizzle\n",
      "No info 3555: Classic Dill Pickles\n",
      "No info 3556: Sbagliato\n",
      "No info 3557: Cointreau Spritz\n",
      "No info 3558: St-Germain Spritz\n",
      "No info 3560: Herb Salt\n",
      "No info 3612: Summer Fruit Shrub Cocktail\n",
      "No info 3836: Green Juice with Baobab Powder\n",
      "No info 4112: Mozzarella-Stuffed Pork Chops with Polenta and Tomatoes\n",
      "No info 4176: The Jimmie Roosevelt\n",
      "No info 4405: Yogurt-Chia Pudding\n",
      "No info 4517: Peach, Ginger, and Bourbon\n",
      "No info 4519: Chopstick Ready Rice\n",
      "No info 4520: Strawberries and Vodka\n",
      "No info 4521: Berries and Rum\n",
      "No info 4523: Vitamin C Brew\n",
      "No info 4524: Pineapple and Gin\n",
      "No info 4525: Sriracha-Lada\n",
      "No info 4526: Watermelon, Lime, and Tequila\n",
      "No info 4628: Minty Spinach Dip\n",
      "No info 4633: Spinach-Honeydew Cooler\n",
      "No info 4940: The Greenest Tahini Sauce\n",
      "No info 4943: Gluten-Free Raspberry-Ginger Muffins\n",
      "No info 4968: Sage Brown Derby\n",
      "No info 5184: Wine Spritzer\n",
      "No info 5189: Coconut-Blueberry Smoothie\n",
      "No info 5198: Collard and Pecan Pesto\n",
      "No info 5199: Miso-Tofu Ranch Dip\n",
      "No info 5204: Autumn Gin Sour\n",
      "No info 5236: Wedge Salad\n",
      "No info 5306: Watermelon Granita with Blueberries\n",
      "No info 5316: Salted-Caramel Semifreddo with Hot Fudge\n",
      "No info 5372: Summer Twang\n",
      "No info 5381: PG-13 Singapore Sling\n",
      "No info 5382: Celery Collins\n",
      "No info 5391: The Rehydrator\n",
      "No info 5480: Spaghetti with Parsley Pesto\n",
      "No info 5481: Sparkling Tarragon-Gin Lemonade\n",
      "No info 5487: Chive Oil\n",
      "No info 5516: The Pousse-Café No 1\n",
      "No info 5729: Black Velvet\n",
      "No info 5732: Buffalo Chicken Dippers\n",
      "No info 5762: Pineapple Pork Chops\n",
      "No info 5772: Spicy Pineapple Wedges\n",
      "No info 5879: Apple-Berry Shrub\n",
      "No info 5882: Pigs in Sleeping Bags\n",
      "No info 6143: Master Hot Sauce Recipe\n",
      "No info 6272: Apricot Miso Jam\n",
      "No info 6282: Green Beans with Miso Butter\n",
      "No info 6431: Kona Swizzle\n",
      "No info 6464: Homemade Buttermilk\n",
      "No info 6472: Sichuan-Spiced Dipping Salt\n",
      "No info 6538: Yuzu Kosho\n",
      "No info 6573: Lamb Meatballs in Green Curry Sauce\n",
      "No info 6658: Walnut-Thyme Honey\n",
      "No info 6725: Cajun Spice Mix\n",
      "No info 6754: Maxine's Turkey Stuffing\n",
      "No info 6786: Herb-Lemon Zest Butter\n",
      "No info 6788: Salt-and-Vinegar Potato Chips\n",
      "No info 6794: Panang Curry Paste\n",
      "No info 6815: Buttered-Popcorn Ice Cream Sundae\n",
      "No info 6919: Beet, Carrot, and Apple Juice with Ginger\n",
      "No info 6920: Tomato-Water Bloody Mary\n",
      "No info 6924: Cucumber-Aloe Cocktail\n",
      "No info 6967: Mojo Marinade\n",
      "No info 6978: Fruit Smoothie\n",
      "No info 6992: Anchovy Butter\n",
      "No info 7047: Salsa Verde\n",
      "No info 7051: Special Sauce\n",
      "No info 7061: Campari-Orange Pops\n",
      "No info 7067: Peach-Vanilla Cream Pops\n",
      "No info 7078: Grilled Flatbreads\n",
      "No info 7175: Braised Veal Shoulder with Gremolata and Tomato-Olive Salad\n",
      "No info 7179: Pistachio and Dried-Fruit Haroseth\n",
      "No info 7192: Fresh Grape and Champagne Sorbet\n",
      "No info 7579: Green Bean Casserole\n",
      "No info 7581: Pecan or Angel Slices\n",
      "No info 7619: Cinnamon Sugar Crisps\n",
      "No info 7759: Dean & Deluca's Tuna Sandwich with Carrots, Red Onion, and Parsley\n",
      "No info 7760: Frisee with Crisped Salmon Skin and Warm Sherry Vinaigrette\n",
      "No info 7770: Cardamom Sour-Cream Waffles\n",
      "No info 7786: Classic Manhattan Clam Chowder\n",
      "No info 8116: Quiche in Prosciutto Cups\n",
      "No info 8117: Cranberry Crunch Salad\n",
      "No info 8118: Duck Pizza with Hoisin and Scallions\n",
      "No info 8119: Mac 'n' Cheese Minis\n",
      "No info 8120: Pumpkin Pie Cupcakes\n",
      "No info 8121: Peppermint Cosmo\n",
      "No info 8130: Peppermint Meringue Cake with Chocolate Buttercream\n",
      "No info 8143: Toasted-Coconut Soufflés with Ruby-Red Cranberry Sauce\n",
      "No info 8169: Poppy Cheddar Moon Crackers\n",
      "No info 8173: Potato Ghosts\n",
      "No info 8176: Asparagus Velouté\n",
      "No info 8184: Greek Potato and Almond Dip\n",
      "No info 8212: Lime Noodles with Vegetables, Basil, and Sesame\n",
      "No info 8218: Steak Au Poivre\n",
      "No info 8224: Tea-Flavored Tarte Tatin (Tarte Tatin au Thé)\n",
      "No info 8228: Chicken Wings with Ginger and Caramel Sauce\n",
      "No info 8236: Baked Eggs with Tomato\n",
      "No info 8245: Lemon or Orange Cake (Cake Citron ou Cake Orange)\n",
      "No info 8246: Lemon (or Lime or Orange) Ricotta Pancakes\n",
      "No info 8248: Marblehead Soft Scrambled Egg, Corn, and Cheddar Cheese\n",
      "No info 8250: Korova Cookies\n",
      "No info 8264: Blisters on My Sisters\n",
      "No info 8267: Grilled Shrimp with Papaya Mustard\n",
      "No info 8318: Cranberry and Vanilla Bean Sorbet\n",
      "No info 8387: Spiced and Sour Mushroom Soup (Tom Yam Hed)\n",
      "No info 8438: Broccoli Garlic Quiche\n",
      "No info 8454: Grilled Zucchini Pepper Salad\n",
      "No info 8477: Peach Prosecco Spritzers\n",
      "No info 8627: Maple Blueberry Parfait\n",
      "No info 8669: Pluot Jam\n",
      "No info 8705: Shrimp and \"Pearls\"\n",
      "No info 8716: The Ultimate Burger\n",
      "No info 8717: Pork Spice Rub\n",
      "No info 8862: Savory Parmesan Pain Perdu with Poached Eggs and Greens\n",
      "No info 8926: Rustic French Meatloaf\n",
      "No info 8960: Udon Noodle Salad\n",
      "No info 8962: Seafood Salad\n",
      "No info 9027: Cheesy Chicken and Mushroom Lasagne\n",
      "No info 9039: Provençal Chicken and Tomato Roast\n",
      "No info 9171: Smoked-Tea-Infused Chocolate Pots de Crème\n",
      "No info 9174: Tuscan Kale Chips\n",
      "No info 9177: Five-Spice Beet Soup\n",
      "No info 9184: Hot-Tin-Roof-Sundae\n",
      "No info 9198: Grass-Fed Steaks with Kalamata-Olive Chimichurri\n",
      "No info 9226: Butternut Squash and Radicchio Pappardelle\n",
      "No info 9270: Fettucine Carbonara with Fried Eggs\n",
      "No info 9311: Broiled Lemon Thyme Pollock\n",
      "No info 9327: Italian Green Beans and Potatoes\n",
      "No info 9369: Black Cod with Chanterelle Ragout\n",
      "No info 9377: Chocolate-Coffee Gingerbread with Hazelnut Poached Pears\n",
      "No info 9393: Mac and Two Cheeses with Caramelized Shallots\n",
      "No info 9405: Herbed Bean Salad\n",
      "No info 9416: Gazpacho Salsa\n",
      "No info 9417: Lemon-Lime, Corn, and Jalapeño Relish\n",
      "No info 9470: Cream of Cauliflower Soup\n",
      "No info 9543: Shrimp in Ginger Butter Sauce\n",
      "No info 9571: French Red Onion Soup\n",
      "No info 9577: Bloody Carioca\n",
      "No info 9599: Iced Maple Cream with Berries\n",
      "No info 9606: Mediterranean Salad with Prosciutto and Pomegranate\n",
      "No info 9608: Asian Steak Topped with Bell Pepper Stir-Fry\n",
      "No info 9615: The Widow's Touch\n"
     ]
    },
    {
     "name": "stdout",
     "output_type": "stream",
     "text": [
      "No info 9644: Mixed Berry and Cassis Sundaes\n",
      "No info 9673: Porterhouse Steak with Pan Seared Cherry Tomatoes\n",
      "No info 9687: Pappardelle with Chicken and Mushroom Ragù\n",
      "No info 9690: Zucchini Köfte with Beet-Bulgur Pilaf\n",
      "No info 9701: Peppery Fig and Cider Compote\n",
      "No info 9745: Steak with Parmesan Butter, Balsamic Glaze, and Arugula\n",
      "No info 9776: Fried Mozzerella with Arugula and Prosciutto\n",
      "No info 9779: Roasted Tomatoes and Onions with Fresh Ricotta\n",
      "No info 9795: Cheddar Burgers with Balsamic Onions and Chipotle Ketchup\n",
      "No info 9796: Asian Pork and Mushroom Burger Wraps\n",
      "No info 9797: Curried Lamb Burgers with Grilled Vegetables and Mint Raita\n",
      "No info 9834: Strawberry Shortcakes\n",
      "No info 9868: Sesame Soba Noodles with Cucumber, Bok Choy, and Mixed Greens\n",
      "No info 9908: Chile Peanuts\n",
      "No info 9917: Aromatic Braised Chicken with Fried Onions\n",
      "No info 10080: Frozen Apricot Soufflé\n",
      "No info 10083: Vegetarian Cassoulet\n",
      "No info 10091: Bouillabaisse, Simplified\n",
      "No info 10152: Roasted Cod with Shiitakes in Miso Broth\n",
      "No info 10161: Pom-Ade\n",
      "No info 10287: Parmesan-Crusted Polenta with Sausage-Mushroom Ragoût\n",
      "No info 10292: Rosemary Pork Chops\n",
      "No info 10352: Balsamic Fig Chutney with Roasted Grapes\n",
      "No info 10353: Candied Espresso Walnuts\n",
      "No info 10526: Parsi Potatoes with Egg\n",
      "No info 10530: Hake with Wild Mushrooms\n",
      "No info 10536: Clay-Pot Miso Chicken\n",
      "No info 10537: Apple and Smoked-Bacon Salad with Lychees and Chili Nuts\n",
      "No info 10575: Butterscotch Puddings with Whipped Cream and Crushed English Toffee\n",
      "No info 10582: Savory Semolina\n",
      "No info 10617: Tomatillo Salsa\n",
      "No info 10618: Ecuadoran Tamarillo Salsa\n",
      "No info 10619: Colombian Avocado Salsa\n",
      "No info 10620: Guajillo and Tomatillo Salsa\n",
      "No info 10630: Ecuadoran Potato Cakes with Peanut Sauce\n",
      "No info 10701: The Retro Highball\n",
      "No info 11039: Fifty-Fifty Martini\n",
      "No info 11231: Strawberry-Soy Milk Shake\n",
      "No info 12141: French Vinaigrette\n",
      "No info 12299: Old-Fashioned Meatballs in Red Sauce\n",
      "No info 12330: Almond-Crusted Shrimp Cakes with Lemon Soy Mayonnaise\n",
      "No info 12514: Black Forest Shooter\n",
      "No info 12557: Cornmeal and Fig Cake with Pine Nuts\n",
      "No info 12595: Succotash\n",
      "No info 12753: Swiss Chard with Raisins and Pine Nuts\n",
      "No info 12761: Grilled Fontina with Artichokes and Mushrooms\n",
      "No info 12806: Pumpkin Seed Brittle\n",
      "No info 12859: Ginger Pineapple Sparkling Punch\n",
      "No info 12861: Chocolate-Covered Raspberry Truffles\n",
      "No info 12883: Smoked Whitefish on Cucumber Rounds\n",
      "No info 12889: Hazelnut and Olive Rugelach\n",
      "No info 13012: Steamed Chicken with Black Mushrooms and Bok Choy\n",
      "No info 13020: Raspberry Crème Fraîche Puff\n",
      "No info 13024: Corn and Zucchini Sauté\n",
      "No info 13025: Parsley Cumin Parathas\n",
      "No info 13026: Turkey Sloppy Joes on Cheddar Buttermilk Biscuits\n",
      "No info 13029: Timballo\n",
      "No info 13030: Black Roasted Cod with Sea Beans and Oysters\n",
      "No info 13032: Broiled Arctic Char with Basil Sauce and Tomato\n",
      "No info 13034: Green Tomato Soup\n",
      "No info 13049: Gemelli with Zucchini, Tomatoes, and Bacon\n",
      "No info 13077: Rob Roy\n",
      "No info 13297: Chicken and Sausage Jambalaya\n",
      "No info 13346: Classic Terrine of Foie Gras\n",
      "No info 13467: Veal Cutlets with Arugula and Tomato Salad\n"
     ]
    }
   ],
   "source": [
    "from PIL import Image\n",
    "\n",
    "img_no_info = []\n",
    "img_bad_idx = []\n",
    "for i in tqdm(range(len(recipes_df))):\n",
    "    row = recipes_df.iloc[i]\n",
    "    img_path = images_path / (row.Image_Name+'.jpg')\n",
    "    try:\n",
    "        img_=Image.open(img_path)\n",
    "        entropy = skimage.measure.shannon_entropy(img_)\n",
    "        if entropy<4.5:\n",
    "            print(f\"No info {i}: {row.Title}\")\n",
    "            img_no_info.append(i)\n",
    "        \n",
    "    except FileNotFoundError:\n",
    "#         print(f\"{i}: {row.Title}\")\n",
    "        img_bad_idx.append(i)"
   ]
  },
  {
   "cell_type": "code",
   "execution_count": 29,
   "id": "7d56f47d",
   "metadata": {},
   "outputs": [
    {
     "name": "stdout",
     "output_type": "stream",
     "text": [
      "30 recipes with bad image path\n"
     ]
    }
   ],
   "source": [
    "print(len(img_bad_idx), 'recipes with bad image path')"
   ]
  },
  {
   "cell_type": "code",
   "execution_count": 32,
   "id": "301bbe59",
   "metadata": {},
   "outputs": [
    {
     "data": {
      "text/plain": [
       "276"
      ]
     },
     "execution_count": 32,
     "metadata": {},
     "output_type": "execute_result"
    }
   ],
   "source": [
    "len(img_no_info)"
   ]
  },
  {
   "cell_type": "markdown",
   "id": "2bcab90a",
   "metadata": {},
   "source": [
    "Will address this fact when building the processed dataset"
   ]
  },
  {
   "cell_type": "markdown",
   "id": "3c8ec527",
   "metadata": {},
   "source": [
    "There is also another thing: Some text fields might have bad formatting:"
   ]
  },
  {
   "cell_type": "code",
   "execution_count": 33,
   "id": "5d27fea9",
   "metadata": {},
   "outputs": [
    {
     "name": "stdout",
     "output_type": "stream",
     "text": [
      "<class 'pandas.core.frame.DataFrame'>\n",
      "Index: 13501 entries, 0 to 13500\n",
      "Data columns (total 5 columns):\n",
      " #   Column               Non-Null Count  Dtype \n",
      "---  ------               --------------  ----- \n",
      " 0   Title                13496 non-null  object\n",
      " 1   Ingredients          13501 non-null  object\n",
      " 2   Instructions         13493 non-null  object\n",
      " 3   Image_Name           13501 non-null  object\n",
      " 4   Cleaned_Ingredients  13501 non-null  object\n",
      "dtypes: object(5)\n",
      "memory usage: 632.9+ KB\n"
     ]
    }
   ],
   "source": [
    "recipes_df.info()"
   ]
  },
  {
   "cell_type": "code",
   "execution_count": 34,
   "id": "c3f66679",
   "metadata": {},
   "outputs": [
    {
     "data": {
      "text/html": [
       "<div>\n",
       "<style scoped>\n",
       "    .dataframe tbody tr th:only-of-type {\n",
       "        vertical-align: middle;\n",
       "    }\n",
       "\n",
       "    .dataframe tbody tr th {\n",
       "        vertical-align: top;\n",
       "    }\n",
       "\n",
       "    .dataframe thead th {\n",
       "        text-align: right;\n",
       "    }\n",
       "</style>\n",
       "<table border=\"1\" class=\"dataframe\">\n",
       "  <thead>\n",
       "    <tr style=\"text-align: right;\">\n",
       "      <th></th>\n",
       "      <th>Title</th>\n",
       "      <th>Ingredients</th>\n",
       "      <th>Instructions</th>\n",
       "      <th>Image_Name</th>\n",
       "      <th>Cleaned_Ingredients</th>\n",
       "    </tr>\n",
       "  </thead>\n",
       "  <tbody>\n",
       "    <tr>\n",
       "      <th>count</th>\n",
       "      <td>13496</td>\n",
       "      <td>13501</td>\n",
       "      <td>13493</td>\n",
       "      <td>13501</td>\n",
       "      <td>13501</td>\n",
       "    </tr>\n",
       "    <tr>\n",
       "      <th>unique</th>\n",
       "      <td>13305</td>\n",
       "      <td>13473</td>\n",
       "      <td>13464</td>\n",
       "      <td>13472</td>\n",
       "      <td>13473</td>\n",
       "    </tr>\n",
       "    <tr>\n",
       "      <th>top</th>\n",
       "      <td>Potato Latkes</td>\n",
       "      <td>[]</td>\n",
       "      <td>Place ingredients in blender in the order list...</td>\n",
       "      <td>#NAME?</td>\n",
       "      <td>['']</td>\n",
       "    </tr>\n",
       "    <tr>\n",
       "      <th>freq</th>\n",
       "      <td>5</td>\n",
       "      <td>12</td>\n",
       "      <td>5</td>\n",
       "      <td>30</td>\n",
       "      <td>12</td>\n",
       "    </tr>\n",
       "  </tbody>\n",
       "</table>\n",
       "</div>"
      ],
      "text/plain": [
       "                Title Ingredients  \\\n",
       "count           13496       13501   \n",
       "unique          13305       13473   \n",
       "top     Potato Latkes          []   \n",
       "freq                5          12   \n",
       "\n",
       "                                             Instructions Image_Name  \\\n",
       "count                                               13493      13501   \n",
       "unique                                              13464      13472   \n",
       "top     Place ingredients in blender in the order list...     #NAME?   \n",
       "freq                                                    5         30   \n",
       "\n",
       "       Cleaned_Ingredients  \n",
       "count                13501  \n",
       "unique               13473  \n",
       "top                   ['']  \n",
       "freq                    12  "
      ]
     },
     "execution_count": 34,
     "metadata": {},
     "output_type": "execute_result"
    }
   ],
   "source": [
    "recipes_df.describe()"
   ]
  },
  {
   "cell_type": "markdown",
   "id": "368d49c0",
   "metadata": {},
   "source": [
    "Find bad titles, ingredients, instructions. The process is very similar to the images. Repeated since throwaway code in this notebook."
   ]
  },
  {
   "cell_type": "code",
   "execution_count": 44,
   "id": "3c17d7c3",
   "metadata": {},
   "outputs": [],
   "source": [
    "title_bad_idx = []\n",
    "ingredients_bad_idx = []\n",
    "instructions_bad_idx = []\n",
    "for i in range(len(recipes_df)):\n",
    "    row = recipes_df.iloc[i]\n",
    "    if not row.Title:\n",
    "        title_bad_idx.append(i)\n",
    "    if not row.Cleaned_Ingredients or row.Cleaned_Ingredients==\"['']\":\n",
    "        ingredients_bad_idx.append(i)\n",
    "    if not row.Instructions:\n",
    "        ingredients_bad_idx.append(i)"
   ]
  },
  {
   "cell_type": "code",
   "execution_count": 45,
   "id": "3e58b92c",
   "metadata": {},
   "outputs": [
    {
     "data": {
      "text/plain": [
       "([],\n",
       " [5606, 5699, 7058, 7863, 8059, 9350, 9636, 11221, 12373, 12378, 12818, 12829],\n",
       " [])"
      ]
     },
     "execution_count": 45,
     "metadata": {},
     "output_type": "execute_result"
    }
   ],
   "source": [
    "title_bad_idx, ingredients_bad_idx, instructions_bad_idx"
   ]
  },
  {
   "cell_type": "markdown",
   "id": "e34af39c",
   "metadata": {},
   "source": [
    "Try the newly created dataframes"
   ]
  },
  {
   "cell_type": "code",
   "execution_count": null,
   "id": "bade2b1b",
   "metadata": {},
   "outputs": [],
   "source": []
  }
 ],
 "metadata": {
  "kernelspec": {
   "display_name": "Python 3 (ipykernel)",
   "language": "python",
   "name": "python3"
  },
  "language_info": {
   "codemirror_mode": {
    "name": "ipython",
    "version": 3
   },
   "file_extension": ".py",
   "mimetype": "text/x-python",
   "name": "python",
   "nbconvert_exporter": "python",
   "pygments_lexer": "ipython3",
   "version": "3.10.11"
  }
 },
 "nbformat": 4,
 "nbformat_minor": 5
}
